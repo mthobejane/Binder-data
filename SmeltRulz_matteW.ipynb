{
 "cells": [
  {
   "cell_type": "code",
   "execution_count": 1,
   "metadata": {},
   "outputs": [],
   "source": [
    "## Import approriate packages and assign with shorthand codes\n",
    "import pandas as pd # pandas: for data ingestion and manipulation\n",
    "import numpy as np # numpy: for mathematical and algebraic manipulation\n",
    "import seaborn as sns # seaborn: for neat plots\n",
    "import matplotlib.pyplot as plt # matplotlib.pyplot: for general plotting\n",
    "import matplotlib.dates as mdates # matplotlib.datas: for adding dates to plots\n",
    "from scipy import stats\n",
    "# to create interactive plots:\n",
    "%matplotlib widget \n",
    "from pandas.plotting import register_matplotlib_converters # to prevent a warning when you first plot a time series\n",
    "register_matplotlib_converters()  # suppress warning related to development cycles out of sync between matplotlib and pandas"
   ]
  },
  {
   "cell_type": "code",
   "execution_count": null,
   "metadata": {},
   "outputs": [],
   "source": []
  },
  {
   "cell_type": "code",
   "execution_count": 2,
   "metadata": {},
   "outputs": [
    {
     "data": {
      "text/html": [
       "<div>\n",
       "<style scoped>\n",
       "    .dataframe tbody tr th:only-of-type {\n",
       "        vertical-align: middle;\n",
       "    }\n",
       "\n",
       "    .dataframe tbody tr th {\n",
       "        vertical-align: top;\n",
       "    }\n",
       "\n",
       "    .dataframe thead th {\n",
       "        text-align: right;\n",
       "    }\n",
       "</style>\n",
       "<table border=\"1\" class=\"dataframe\">\n",
       "  <thead>\n",
       "    <tr style=\"text-align: right;\">\n",
       "      <th></th>\n",
       "      <th>matte_w</th>\n",
       "      <th>power</th>\n",
       "    </tr>\n",
       "  </thead>\n",
       "  <tbody>\n",
       "    <tr>\n",
       "      <th>count</th>\n",
       "      <td>37623.000000</td>\n",
       "      <td>37533.000000</td>\n",
       "    </tr>\n",
       "    <tr>\n",
       "      <th>mean</th>\n",
       "      <td>1121.648672</td>\n",
       "      <td>15.014589</td>\n",
       "    </tr>\n",
       "    <tr>\n",
       "      <th>std</th>\n",
       "      <td>68.929727</td>\n",
       "      <td>5.181762</td>\n",
       "    </tr>\n",
       "    <tr>\n",
       "      <th>min</th>\n",
       "      <td>1001.000000</td>\n",
       "      <td>-0.004958</td>\n",
       "    </tr>\n",
       "    <tr>\n",
       "      <th>25%</th>\n",
       "      <td>1076.000000</td>\n",
       "      <td>13.223397</td>\n",
       "    </tr>\n",
       "    <tr>\n",
       "      <th>50%</th>\n",
       "      <td>1118.000000</td>\n",
       "      <td>16.467579</td>\n",
       "    </tr>\n",
       "    <tr>\n",
       "      <th>75%</th>\n",
       "      <td>1155.000000</td>\n",
       "      <td>19.376287</td>\n",
       "    </tr>\n",
       "    <tr>\n",
       "      <th>max</th>\n",
       "      <td>1667.000000</td>\n",
       "      <td>22.665699</td>\n",
       "    </tr>\n",
       "  </tbody>\n",
       "</table>\n",
       "</div>"
      ],
      "text/plain": [
       "            matte_w         power\n",
       "count  37623.000000  37533.000000\n",
       "mean    1121.648672     15.014589\n",
       "std       68.929727      5.181762\n",
       "min     1001.000000     -0.004958\n",
       "25%     1076.000000     13.223397\n",
       "50%     1118.000000     16.467579\n",
       "75%     1155.000000     19.376287\n",
       "max     1667.000000     22.665699"
      ]
     },
     "execution_count": 2,
     "metadata": {},
     "output_type": "execute_result"
    }
   ],
   "source": [
    "## Import Mogalakwena South data set example and do upfront NaN definitions\n",
    "fname = '../dataset/SCF_matte1_ex.csv' # file name of data set\n",
    "df_data = pd.read_csv(fname,na_values=['Tag not found','bad','Bad','Not Connect', '[-11059] No Good Data For Calculation', 'Configure']) # save data in data frame; specify some NaN strings upfront\n",
    "df_data['datetime']=pd.to_datetime(df_data['datetime']) # Convert column 'datetime' values to time stamp format\n",
    "df_data.set_index('datetime',inplace=True) # Assign index of data set as 'datetime' column with time stamps\n",
    "df_data.describe()"
   ]
  },
  {
   "cell_type": "code",
   "execution_count": 3,
   "metadata": {},
   "outputs": [
    {
     "data": {
      "text/html": [
       "<div>\n",
       "<style scoped>\n",
       "    .dataframe tbody tr th:only-of-type {\n",
       "        vertical-align: middle;\n",
       "    }\n",
       "\n",
       "    .dataframe tbody tr th {\n",
       "        vertical-align: top;\n",
       "    }\n",
       "\n",
       "    .dataframe thead th {\n",
       "        text-align: right;\n",
       "    }\n",
       "</style>\n",
       "<table border=\"1\" class=\"dataframe\">\n",
       "  <thead>\n",
       "    <tr style=\"text-align: right;\">\n",
       "      <th></th>\n",
       "      <th>matte_w</th>\n",
       "      <th>power</th>\n",
       "    </tr>\n",
       "  </thead>\n",
       "  <tbody>\n",
       "    <tr>\n",
       "      <th>count</th>\n",
       "      <td>2061.000000</td>\n",
       "      <td>2061.000000</td>\n",
       "    </tr>\n",
       "    <tr>\n",
       "      <th>mean</th>\n",
       "      <td>1152.575934</td>\n",
       "      <td>17.729946</td>\n",
       "    </tr>\n",
       "    <tr>\n",
       "      <th>std</th>\n",
       "      <td>81.426491</td>\n",
       "      <td>5.188622</td>\n",
       "    </tr>\n",
       "    <tr>\n",
       "      <th>min</th>\n",
       "      <td>1001.000000</td>\n",
       "      <td>-0.002998</td>\n",
       "    </tr>\n",
       "    <tr>\n",
       "      <th>25%</th>\n",
       "      <td>1112.000000</td>\n",
       "      <td>19.209076</td>\n",
       "    </tr>\n",
       "    <tr>\n",
       "      <th>50%</th>\n",
       "      <td>1149.000000</td>\n",
       "      <td>19.607941</td>\n",
       "    </tr>\n",
       "    <tr>\n",
       "      <th>75%</th>\n",
       "      <td>1189.000000</td>\n",
       "      <td>19.971796</td>\n",
       "    </tr>\n",
       "    <tr>\n",
       "      <th>max</th>\n",
       "      <td>1667.000000</td>\n",
       "      <td>22.665699</td>\n",
       "    </tr>\n",
       "  </tbody>\n",
       "</table>\n",
       "</div>"
      ],
      "text/plain": [
       "           matte_w        power\n",
       "count  2061.000000  2061.000000\n",
       "mean   1152.575934    17.729946\n",
       "std      81.426491     5.188622\n",
       "min    1001.000000    -0.002998\n",
       "25%    1112.000000    19.209076\n",
       "50%    1149.000000    19.607941\n",
       "75%    1189.000000    19.971796\n",
       "max    1667.000000    22.665699"
      ]
     },
     "execution_count": 3,
     "metadata": {},
     "output_type": "execute_result"
    }
   ],
   "source": [
    "df_data =df_data.loc['2024-03-14 05:00:00':'2024-04-09 05:00:00',:]\n",
    "df_data.describe()\n"
   ]
  },
  {
   "cell_type": "code",
   "execution_count": null,
   "metadata": {},
   "outputs": [],
   "source": [
    "#exclude_timestamps = pd.to_datetime(['2024/03/18','2024/03/21','2024/04/01'])"
   ]
  },
  {
   "cell_type": "code",
   "execution_count": null,
   "metadata": {},
   "outputs": [],
   "source": [
    "#df_data = df_data[~df_data['datetime'].isin(exclude_timestamps)]"
   ]
  },
  {
   "cell_type": "code",
   "execution_count": 14,
   "metadata": {},
   "outputs": [
    {
     "data": {
      "text/html": [
       "<div>\n",
       "<style scoped>\n",
       "    .dataframe tbody tr th:only-of-type {\n",
       "        vertical-align: middle;\n",
       "    }\n",
       "\n",
       "    .dataframe tbody tr th {\n",
       "        vertical-align: top;\n",
       "    }\n",
       "\n",
       "    .dataframe thead th {\n",
       "        text-align: right;\n",
       "    }\n",
       "</style>\n",
       "<table border=\"1\" class=\"dataframe\">\n",
       "  <thead>\n",
       "    <tr style=\"text-align: right;\">\n",
       "      <th></th>\n",
       "      <th>matte_w</th>\n",
       "      <th>power</th>\n",
       "    </tr>\n",
       "  </thead>\n",
       "  <tbody>\n",
       "    <tr>\n",
       "      <th>count</th>\n",
       "      <td>1735.000000</td>\n",
       "      <td>1735.000000</td>\n",
       "    </tr>\n",
       "    <tr>\n",
       "      <th>mean</th>\n",
       "      <td>1152.563689</td>\n",
       "      <td>19.773748</td>\n",
       "    </tr>\n",
       "    <tr>\n",
       "      <th>std</th>\n",
       "      <td>80.739584</td>\n",
       "      <td>0.574084</td>\n",
       "    </tr>\n",
       "    <tr>\n",
       "      <th>min</th>\n",
       "      <td>1001.000000</td>\n",
       "      <td>18.157869</td>\n",
       "    </tr>\n",
       "    <tr>\n",
       "      <th>25%</th>\n",
       "      <td>1112.000000</td>\n",
       "      <td>19.424745</td>\n",
       "    </tr>\n",
       "    <tr>\n",
       "      <th>50%</th>\n",
       "      <td>1147.000000</td>\n",
       "      <td>19.719522</td>\n",
       "    </tr>\n",
       "    <tr>\n",
       "      <th>75%</th>\n",
       "      <td>1191.000000</td>\n",
       "      <td>20.020898</td>\n",
       "    </tr>\n",
       "    <tr>\n",
       "      <th>max</th>\n",
       "      <td>1667.000000</td>\n",
       "      <td>22.665699</td>\n",
       "    </tr>\n",
       "  </tbody>\n",
       "</table>\n",
       "</div>"
      ],
      "text/plain": [
       "           matte_w        power\n",
       "count  1735.000000  1735.000000\n",
       "mean   1152.563689    19.773748\n",
       "std      80.739584     0.574084\n",
       "min    1001.000000    18.157869\n",
       "25%    1112.000000    19.424745\n",
       "50%    1147.000000    19.719522\n",
       "75%    1191.000000    20.020898\n",
       "max    1667.000000    22.665699"
      ]
     },
     "execution_count": 14,
     "metadata": {},
     "output_type": "execute_result"
    }
   ],
   "source": [
    "df_data = df_data.loc[df_data['power']>(18)]\n",
    "df_data.describe()"
   ]
  },
  {
   "cell_type": "code",
   "execution_count": 15,
   "metadata": {},
   "outputs": [
    {
     "data": {
      "application/vnd.jupyter.widget-view+json": {
       "model_id": "7ec84d6bd2bb419a832d5fbd7ce33de8",
       "version_major": 2,
       "version_minor": 0
      },
      "text/plain": [
       "Canvas(toolbar=Toolbar(toolitems=[('Home', 'Reset original view', 'home', 'home'), ('Back', 'Back to previous …"
      ]
     },
     "metadata": {},
     "output_type": "display_data"
    },
    {
     "data": {
      "text/plain": [
       "<matplotlib.legend.Legend at 0x1e4c1fe4c88>"
      ]
     },
     "execution_count": 15,
     "metadata": {},
     "output_type": "execute_result"
    }
   ],
   "source": [
    "## Time series plot\n",
    "# Create axis\n",
    "fig, ax = plt.subplots()\n",
    "# Apply date formatting convention\n",
    "ax.format_xdata = mdates.DateFormatter('%Y-%m-%d')\n",
    "fig.autofmt_xdate()\n",
    "# Plot time series\n",
    "ax.plot(df_data['power'],alpha=0.8,label='fce power')\n",
    "plt.legend(loc='lower left')"
   ]
  },
  {
   "cell_type": "code",
   "execution_count": 8,
   "metadata": {},
   "outputs": [
    {
     "data": {
      "text/html": [
       "<div>\n",
       "<style scoped>\n",
       "    .dataframe tbody tr th:only-of-type {\n",
       "        vertical-align: middle;\n",
       "    }\n",
       "\n",
       "    .dataframe tbody tr th {\n",
       "        vertical-align: top;\n",
       "    }\n",
       "\n",
       "    .dataframe thead th {\n",
       "        text-align: right;\n",
       "    }\n",
       "</style>\n",
       "<table border=\"1\" class=\"dataframe\">\n",
       "  <thead>\n",
       "    <tr style=\"text-align: right;\">\n",
       "      <th></th>\n",
       "      <th>matte_w</th>\n",
       "      <th>power</th>\n",
       "    </tr>\n",
       "  </thead>\n",
       "  <tbody>\n",
       "    <tr>\n",
       "      <th>count</th>\n",
       "      <td>1735.000000</td>\n",
       "      <td>1735.000000</td>\n",
       "    </tr>\n",
       "    <tr>\n",
       "      <th>mean</th>\n",
       "      <td>1152.563689</td>\n",
       "      <td>19.773748</td>\n",
       "    </tr>\n",
       "    <tr>\n",
       "      <th>std</th>\n",
       "      <td>80.739584</td>\n",
       "      <td>0.574084</td>\n",
       "    </tr>\n",
       "    <tr>\n",
       "      <th>min</th>\n",
       "      <td>1001.000000</td>\n",
       "      <td>18.157869</td>\n",
       "    </tr>\n",
       "    <tr>\n",
       "      <th>25%</th>\n",
       "      <td>1112.000000</td>\n",
       "      <td>19.424745</td>\n",
       "    </tr>\n",
       "    <tr>\n",
       "      <th>50%</th>\n",
       "      <td>1147.000000</td>\n",
       "      <td>19.719522</td>\n",
       "    </tr>\n",
       "    <tr>\n",
       "      <th>75%</th>\n",
       "      <td>1191.000000</td>\n",
       "      <td>20.020898</td>\n",
       "    </tr>\n",
       "    <tr>\n",
       "      <th>max</th>\n",
       "      <td>1667.000000</td>\n",
       "      <td>22.665699</td>\n",
       "    </tr>\n",
       "  </tbody>\n",
       "</table>\n",
       "</div>"
      ],
      "text/plain": [
       "           matte_w        power\n",
       "count  1735.000000  1735.000000\n",
       "mean   1152.563689    19.773748\n",
       "std      80.739584     0.574084\n",
       "min    1001.000000    18.157869\n",
       "25%    1112.000000    19.424745\n",
       "50%    1147.000000    19.719522\n",
       "75%    1191.000000    20.020898\n",
       "max    1667.000000    22.665699"
      ]
     },
     "execution_count": 8,
     "metadata": {},
     "output_type": "execute_result"
    }
   ],
   "source": [
    "df_data.describe()\n"
   ]
  },
  {
   "cell_type": "code",
   "execution_count": 9,
   "metadata": {},
   "outputs": [
    {
     "data": {
      "application/vnd.jupyter.widget-view+json": {
       "model_id": "4641f3e415514664b68c16a7a6517797",
       "version_major": 2,
       "version_minor": 0
      },
      "text/plain": [
       "Canvas(toolbar=Toolbar(toolitems=[('Home', 'Reset original view', 'home', 'home'), ('Back', 'Back to previous …"
      ]
     },
     "metadata": {},
     "output_type": "display_data"
    }
   ],
   "source": [
    "## Shewhart chart \n",
    "# Daily samples in data set; to be downsampled to weekly samples (i.e. n = 7)\n",
    "df_FP = df_data.loc[:, 'power']\n",
    "n = 2\n",
    "c4 = np.sqrt(2/(n-1))*np.math.gamma(n/2)/np.math.gamma((n-1)/2)\n",
    "# Calculate sample standard deviations\n",
    "si =df_FP.resample('1D').std()\n",
    "# Calculate sample means\n",
    "xbar = df_FP.resample('1D').mean()\n",
    "# Define training data as first 25 samples\n",
    "si_train = si[:240]\n",
    "xbar_train = xbar[:240]\n",
    "# Calculate sample statistics of sample statistics\n",
    "sbar = si_train.mean()\n",
    "xbarbar = xbar_train.mean()\n",
    "# Calculate sigma values for xbar and s control charts\n",
    "sigmas = sbar #*np.sqrt(1-c4**2)/c4\n",
    "sigmax = sbar #/(c4*np.sqrt(n))\n",
    "# Control limits\n",
    "UCLs = sbar+3*sigmas\n",
    "CLs = sbar\n",
    "LCLs = sbar-3*sigmas\n",
    "UCLx = xbarbar + 3*sigmax\n",
    "CLx = xbarbar\n",
    "LCLx = xbarbar-3*sigmax\n",
    "# Plot Shewhart charts\n",
    "fig, ax = plt.subplots(2,1,sharex=True)\n",
    "ax[0].format_xdata = mdates.DateFormatter('%Y-%m-%d')\n",
    "fig.autofmt_xdate()\n",
    "ax[0].plot(si,marker='.')\n",
    "ax[0].axhline(UCLs,color='r')\n",
    "ax[0].axhline(LCLs,color='r')\n",
    "ax[0].axhline(CLs,color='k')\n",
    "ax[0].title.set_text('Shewhart s chart')\n",
    "ax[1].plot(xbar,marker='.')\n",
    "ax[1].axhline(UCLx,color='r')\n",
    "ax[1].axhline(LCLx,color='r')\n",
    "ax[1].axhline(CLx,color='k')\n",
    "ax[1].title.set_text('Shewhart x bar chart')\n",
    "\n",
    "#ax[1].title.set_text('Shewhart x bar chart')"
   ]
  },
  {
   "cell_type": "code",
   "execution_count": null,
   "metadata": {},
   "outputs": [],
   "source": [
    "UCLx\n"
   ]
  },
  {
   "cell_type": "code",
   "execution_count": 16,
   "metadata": {},
   "outputs": [
    {
     "data": {
      "application/vnd.jupyter.widget-view+json": {
       "model_id": "5f6af180388542348000394a318ad836",
       "version_major": 2,
       "version_minor": 0
      },
      "text/plain": [
       "Canvas(toolbar=Toolbar(toolitems=[('Home', 'Reset original view', 'home', 'home'), ('Back', 'Back to previous …"
      ]
     },
     "metadata": {},
     "output_type": "display_data"
    }
   ],
   "source": [
    "## Shewhart chart \n",
    "# Daily samples in data set; to be downsampled to weekly samples (i.e. n = 7)\n",
    "df_FP = df_data.loc[:, 'matte_w']\n",
    "n = 2\n",
    "c4 = np.sqrt(2/(n-1))*np.math.gamma(n/2)/np.math.gamma((n-1)/2)\n",
    "# Calculate sample standard deviations\n",
    "si =df_FP.resample('1h').std()\n",
    "# Calculate sample means\n",
    "xbar = df_FP.resample('1h').mean()\n",
    "# Define training data as first 25 samples\n",
    "si_train = si[:240]\n",
    "xbar_train = xbar[:240]\n",
    "# Calculate sample statistics of sample statistics\n",
    "sbar = si_train.mean()\n",
    "xbarbar = xbar_train.mean()\n",
    "# Calculate sigma values for xbar and s control charts\n",
    "sigmas = sbar #*np.sqrt(1-c4**2)/c4\n",
    "sigmax = sbar #/(c4*np.sqrt(n))\n",
    "# Control limits\n",
    "UCLs = sbar+3*sigmas\n",
    "CLs = sbar\n",
    "LCLs = sbar-3*sigmas\n",
    "UCLx = xbarbar + 3*sigmax\n",
    "CLx = xbarbar\n",
    "LCLx = xbarbar-3*sigmax\n",
    "# Plot Shewhart charts\n",
    "fig, ax = plt.subplots(2,1,sharex=True)\n",
    "ax[0].format_xdata = mdates.DateFormatter('%Y-%m-%d')\n",
    "fig.autofmt_xdate()\n",
    "ax[0].plot(si,marker='.')\n",
    "ax[0].axhline(UCLs,color='r')\n",
    "ax[0].axhline(LCLs,color='r')\n",
    "ax[0].axhline(CLs,color='k')\n",
    "ax[0].title.set_text('Shewhart s chart')\n",
    "ax[1].plot(xbar,marker='.')\n",
    "ax[1].axhline(UCLx,color='r')\n",
    "ax[1].axhline(LCLx,color='r')\n",
    "ax[1].axhline(CLx,color='k')\n",
    "ax[1].title.set_text('Shewhart x bar chart')\n",
    "\n",
    "#ax[1].title.set_text('Shewhart x bar chart')"
   ]
  },
  {
   "cell_type": "code",
   "execution_count": 17,
   "metadata": {},
   "outputs": [
    {
     "data": {
      "text/plain": [
       "1379.1290995421705"
      ]
     },
     "execution_count": 17,
     "metadata": {},
     "output_type": "execute_result"
    }
   ],
   "source": [
    "UCLx"
   ]
  },
  {
   "cell_type": "code",
   "execution_count": 18,
   "metadata": {},
   "outputs": [
    {
     "data": {
      "text/plain": [
       "1299.8008903722255"
      ]
     },
     "execution_count": 18,
     "metadata": {},
     "output_type": "execute_result"
    }
   ],
   "source": [
    "amber_limit = xbarbar + 2*sigmax\n",
    "amber_limit"
   ]
  },
  {
   "cell_type": "code",
   "execution_count": 19,
   "metadata": {},
   "outputs": [
    {
     "data": {
      "text/plain": [
       "1379.1290995421705"
      ]
     },
     "execution_count": 19,
     "metadata": {},
     "output_type": "execute_result"
    }
   ],
   "source": [
    "red_limit = xbarbar + 3*sigmax\n",
    "red_limit"
   ]
  },
  {
   "cell_type": "code",
   "execution_count": null,
   "metadata": {},
   "outputs": [],
   "source": []
  }
 ],
 "metadata": {
  "kernelspec": {
   "display_name": "Python 3 (ipykernel)",
   "language": "python",
   "name": "python3"
  },
  "language_info": {
   "codemirror_mode": {
    "name": "ipython",
    "version": 3
   },
   "file_extension": ".py",
   "mimetype": "text/x-python",
   "name": "python",
   "nbconvert_exporter": "python",
   "pygments_lexer": "ipython3",
   "version": "3.7.5"
  }
 },
 "nbformat": 4,
 "nbformat_minor": 4
}
